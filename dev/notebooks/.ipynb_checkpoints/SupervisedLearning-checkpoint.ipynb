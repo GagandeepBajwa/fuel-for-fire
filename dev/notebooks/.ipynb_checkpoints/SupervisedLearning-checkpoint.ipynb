{
 "cells": [
  {
   "cell_type": "code",
   "execution_count": 38,
   "metadata": {},
   "outputs": [],
   "source": [
    "# Import matplot for plotting later on\n",
    "import matplotlib.pyplot as plt\n",
    "%matplotlib inline"
   ]
  },
  {
   "cell_type": "code",
   "execution_count": 39,
   "metadata": {},
   "outputs": [],
   "source": [
    "# Specify the path to our data\n",
    "dataPath = \"../../data/\""
   ]
  },
  {
   "cell_type": "code",
   "execution_count": 44,
   "metadata": {},
   "outputs": [
    {
     "name": "stdout",
     "output_type": "stream",
     "text": [
      "../../data/RiversSP.tif_project_4x.bin_sub.hdr\n",
      "../../data/L8.bin_4x.bin_sub.hdr\n",
      "../../data/vri_s2_objid2.tif_project_4x.bin_sub.bin\n",
      "../../data/S2A.bin_4x.bin_sub.bin\n",
      "../../data/MIXED_SP.tif_project_4x.bin_sub.hdr\n",
      "../../data/BROADLEAF_SP.tif_project_4x.bin_sub.bin\n",
      "../../data/SHRUB_SP.tif_project_4x.bin_sub.hdr\n",
      "../../data/WATERSP.tif_project_4x.bin_sub.bin\n",
      "../../data/vri_s3_objid2.tif_project_4x.bin_sub.hdr\n",
      "../../data/BROADLEAF_SP.tif_project_4x.bin_sub.hdr\n",
      "../../data/MIXED_SP.tif_project_4x.bin_sub.bin\n",
      "../../data/SHRUB_SP.tif_project_4x.bin_sub.bin\n",
      "../../data/vri_s3_objid2.tif_project_4x.bin_sub.bin\n",
      "../../data/WATERSP.tif_project_4x.bin_sub.hdr\n",
      "../../data/RiversSP.tif_project_4x.bin_sub.bin\n",
      "../../data/L8.bin_4x.bin_sub.bin\n",
      "../../data/vri_s2_objid2.tif_project_4x.bin_sub.hdr\n",
      "../../data/S2A.bin_4x.bin_sub.hdr\n",
      "../../data/CONIFER_SP.tif_project_4x.bin_sub.bin\n",
      "../../data/EXPOSED_SP.tif_project_4x.bin_sub.hdr\n",
      "../../data/HERB_GRAS_SP.tif_project_4x.bin_sub.bin\n",
      "../../data/CCUTBL_SP.tif_project_4x.bin_sub.bin\n",
      "../../data/CCUTBL_SP.tif_project_4x.bin_sub.hdr\n",
      "../../data/CONIFER_SP.tif_project_4x.bin_sub.hdr\n",
      "../../data/EXPOSED_SP.tif_project_4x.bin_sub.bin\n",
      "../../data/HERB_GRAS_SP.tif_project_4x.bin_sub.hdr\n"
     ]
    }
   ],
   "source": [
    "# Walk the data folder, returning a list of all the files\n",
    "import os\n",
    "for root, dirs, files in os.walk(dataPath, topdown=False):\n",
    "   for file in files:\n",
    "        file = os.path.join(root, file)\n",
    "        print(file)"
   ]
  },
  {
   "cell_type": "code",
   "execution_count": 45,
   "metadata": {},
   "outputs": [],
   "source": [
    "# Library for working with raster images\n",
    "import rasterio\n",
    "from rasterio import plot"
   ]
  },
  {
   "cell_type": "code",
   "execution_count": null,
   "metadata": {},
   "outputs": [],
   "source": [
    "# Create a list of all the raster images\n",
    "rasterBin = []\n",
    "for file in files:\n",
    "    if \".hdr\" not in file:\n",
    "        rasterBin.append(os.path.join(dataPath, file))\n",
    "    \n",
    "print(rasterBin)"
   ]
  },
  {
   "cell_type": "code",
   "execution_count": 186,
   "metadata": {},
   "outputs": [
    {
     "name": "stdout",
     "output_type": "stream",
     "text": [
      "12\n",
      "(401, 410)\n",
      "EPSG:32610\n",
      "Entering labeled data\n",
      "1\n",
      "(401, 410)\n",
      "EPSG:32610\n"
     ]
    },
    {
     "data": {
      "image/png": "[encoded data removed]",
      "text/plain": [
       "<Figure size 432x288 with 1 Axes>"
      ]
     },
     "metadata": {
      "needs_background": "light"
     },
     "output_type": "display_data"
    }
   ],
   "source": [
    "for raster in rasterBin:\n",
    "    if \"S2A.bin_4x.bin_sub.bin\" in raster:\n",
    "        \n",
    "        # rasterImage is of type rasterio.io.DatasetReader\n",
    "        dataset = rasterio.open(raster)\n",
    "\n",
    "        # Some attributes of rasterio\n",
    "#         print(dataset.count)\n",
    "#         print(dataset.shape)\n",
    "#         print(dataset.crs)\n",
    "        \n",
    "        \n",
    "        # This is going to hold all the 2 dimensional numpy arrays\n",
    "        # for each of the 12 bands\n",
    "        bandContainer = []\n",
    "        \n",
    "        # store every band\n",
    "        for x in range(dataset.count):\n",
    "            bandContainer.append(dataset.read(x+1))\n",
    "\n",
    "    elif \"WATERSP.tif_project_4x.bin_sub.bin\" in raster:\n",
    "        print(\"Entering labeled data\")\n",
    "        waterTruthImage = rasterio.open(raster)\n",
    "        print(waterTruthImage.count)\n",
    "        print(waterTruthImage.shape)\n",
    "        print(waterTruthImage.crs)\n",
    "        \n",
    "        # This is the TRUTH label\n",
    "        plot.show(waterTruthImage)\n",
    "    "
   ]
  },
  {
   "cell_type": "code",
   "execution_count": 189,
   "metadata": {},
   "outputs": [],
   "source": [
    "import numpy as np\n",
    "X = np.ones((401, 410, 12))\n",
    "\n",
    "\n",
    "for idx, band in enumerate(bandContainer):\n",
    "    X[:,:,idx] = band\n"
   ]
  },
  {
   "cell_type": "code",
   "execution_count": 190,
   "metadata": {},
   "outputs": [
    {
     "name": "stdout",
     "output_type": "stream",
     "text": [
      "(401, 410, 12)\n"
     ]
    }
   ],
   "source": [
    "print(X.shape)"
   ]
  },
  {
   "cell_type": "code",
   "execution_count": 194,
   "metadata": {},
   "outputs": [
    {
     "name": "stdout",
     "output_type": "stream",
     "text": [
      "953.1199951171875\n"
     ]
    }
   ],
   "source": [
    "print(X[1,1,1])"
   ]
  },
  {
   "cell_type": "code",
   "execution_count": null,
   "metadata": {},
   "outputs": [],
   "source": []
  }
 ],
 "metadata": {
  "kernelspec": {
   "display_name": "Python 3",
   "language": "python",
   "name": "python3"
  },
  "language_info": {
   "codemirror_mode": {
    "name": "ipython",
    "version": 3
   },
   "file_extension": ".py",
   "mimetype": "text/x-python",
   "name": "python",
   "nbconvert_exporter": "python",
   "pygments_lexer": "ipython3",
   "version": "3.6.6"
  }
 },
 "nbformat": 4,
 "nbformat_minor": 2
}
