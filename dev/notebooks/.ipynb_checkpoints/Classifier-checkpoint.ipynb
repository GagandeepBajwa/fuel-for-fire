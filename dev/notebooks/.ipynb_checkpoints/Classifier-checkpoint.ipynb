{
 "cells": [
  {
   "cell_type": "markdown",
   "metadata": {},
   "source": [
    "# Retrieve the data files for reading in"
   ]
  },
  {
   "cell_type": "code",
   "execution_count": 1,
   "metadata": {},
   "outputs": [],
   "source": [
    "# Import matplot for plotting later on\n",
    "import matplotlib.pyplot as plt\n",
    "%matplotlib inline"
   ]
  },
  {
   "cell_type": "code",
   "execution_count": 2,
   "metadata": {},
   "outputs": [],
   "source": [
    "# Specify the path to our data\n",
    "dataPath = \"../../data/\""
   ]
  },
  {
   "cell_type": "code",
   "execution_count": 3,
   "metadata": {},
   "outputs": [
    {
     "name": "stdout",
     "output_type": "stream",
     "text": [
      "files retrieved\n"
     ]
    }
   ],
   "source": [
    "# Walk the data folder, returning a list of all the files\n",
    "import os\n",
    "rasterBin = []\n",
    "for root, dirs, files in os.walk(dataPath, topdown=False):\n",
    "   for file in files:\n",
    "        if \".hdr\" not in file:\n",
    "            rasterBin.append(os.path.join(dataPath, file))\n",
    "\n",
    "print(\"files retrieved\")"
   ]
  },
  {
   "cell_type": "markdown",
   "metadata": {},
   "source": [
    "# Read in the original image and truth labeled images for classification"
   ]
  },
  {
   "cell_type": "code",
   "execution_count": 4,
   "metadata": {},
   "outputs": [],
   "source": [
    "# Library for working with raster images\n",
    "import rasterio\n",
    "import numpy as np\n",
    "from rasterio import plot"
   ]
  },
  {
   "cell_type": "code",
   "execution_count": 5,
   "metadata": {},
   "outputs": [],
   "source": [
    "import pandas as pd\n",
    "data_frame = pd.DataFrame(columns=(\n",
    "        'S2_coastal_aerosol',\n",
    "        'S2_blue',\n",
    "        'S2_green',\n",
    "        'S2_red',\n",
    "        'S2_vre1',\n",
    "        'S2_vre2',\n",
    "        'S2_vre3',\n",
    "        'S2_nir',\n",
    "        'S2_narrow_nir',\n",
    "        'S2_water_vapour',\n",
    "        'S2_swir_cirrus',\n",
    "        'S2_swir2',\n",
    "        'L8_coastal_aerosol',\n",
    "        'L8_blue',\n",
    "        'L8_green',\n",
    "        'L8_red',\n",
    "        'L8_near_infrared',\n",
    "        'L8_shortwave_infrared1',\n",
    "        'L8_shortwave_infrared2',\n",
    "        'L8_panchromatic',\n",
    "        'L8_cirrus',\n",
    "        'L8_longwave_infrared1',\n",
    "        'L8_longwave_infrared2',\n",
    "        'water_val',\n",
    "        'water_bool',\n",
    "        'river_val',\n",
    "        'river_bool',\n",
    "        'broadleaf_val',\n",
    "        'broadleaf_bool',\n",
    "        'shrub_val',\n",
    "        'shrub_bool',\n",
    "        'mixed_val',\n",
    "        'mixed_bool',\n",
    "        'conifer_val',\n",
    "        'conifer_bool',\n",
    "        'herb_val',\n",
    "        'herb_bool',\n",
    "        'clearcut_val',\n",
    "        'clearcut_bool',\n",
    "        'exposed_val',\n",
    "        'exposed_bool'))"
   ]
  },
  {
   "cell_type": "code",
   "execution_count": 6,
   "metadata": {},
   "outputs": [],
   "source": [
    "    for raster in rasterBin:\n",
    "\n",
    "        if \"S2A.bin_4x.bin_sub.bin\" in raster:\n",
    "\n",
    "            dataset = rasterio.open(raster)\n",
    "            for idx in dataset.indexes:\n",
    "                \"\"\"\n",
    "                reads in the current band which is a mat of 401, 410 and ravels it\n",
    "                storing the result in the current column. ie(X values)\n",
    "                \"\"\"\n",
    "                data_frame.iloc[:, idx-1] = dataset.read(idx).ravel()\n",
    "        elif \"L8.bin_4x.bin_sub.bin\" in raster:\n",
    "            dataset = rasterio.open(raster)\n",
    "            for idx in dataset.indexes:\n",
    "                data_frame.iloc[:, idx+11] = dataset.read(idx).ravel()\n",
    "\n",
    "        elif \"WATERSP.tif_project_4x.bin_sub.bin\" in raster:\n",
    "            water = rasterio.open(raster).read(1)\n",
    "            data_frame['water_val'] = water.ravel()\n",
    "            data_frame['water_bool'] = data_frame['water_val'] != 128\n",
    "\n",
    "        elif \"RiversSP.tif_project_4x.bin_sub.bin\" in raster:\n",
    "            river = rasterio.open(raster).read(1)\n",
    "            data_frame['river_val'] = river.ravel()\n",
    "            data_frame['river_bool'] = data_frame['river_val'] == 1.0\n",
    "\n",
    "        elif \"BROADLEAF_SP.tif_project_4x.bin_sub.bin\" in raster:\n",
    "            broadleaf = rasterio.open(raster).read(1)\n",
    "            data_frame['broadleaf_val'] = broadleaf.ravel()\n",
    "            data_frame['broadleaf_bool'] = data_frame['broadleaf_val'] == 1.0\n",
    "\n",
    "        elif \"SHRUB_SP.tif_project_4x.bin_sub.bin\" in raster:\n",
    "            shrub = rasterio.open(raster).read(1)\n",
    "            data_frame['shrub_val'] = shrub.ravel()\n",
    "            data_frame['shrub_bool'] = data_frame['shrub_val'] != 0.0\n",
    "\n",
    "        elif \"MIXED_SP.tif_project_4x.bin_sub.bin\" in raster:\n",
    "            mixed = rasterio.open(raster).read(1)\n",
    "            data_frame['mixed_val'] = mixed.ravel()\n",
    "            data_frame['mixed_bool'] = data_frame['mixed_val'] != 0.0\n",
    "\n",
    "        elif \"CONIFER_SP.tif_project_4x.bin_sub.bin\" in raster:\n",
    "            conifer = rasterio.open(raster).read(1)\n",
    "            data_frame['conifer_val'] = conifer.ravel()\n",
    "            data_frame['conifer_bool'] = data_frame['conifer_val'] != 0.0\n",
    "\n",
    "        elif \"HERB_GRAS_SP.tif_project_4x.bin_sub.bin\" in raster:\n",
    "            herb = rasterio.open(raster).read(1)\n",
    "            data_frame['herb_val'] = herb.ravel()\n",
    "            data_frame['herb_bool'] = data_frame['herb_val'] != 0.0\n",
    "\n",
    "        elif \"CCUTBL_SP.tif_project_4x.bin_sub.bin\" in raster:\n",
    "            clearcut = rasterio.open(raster).read(1)\n",
    "            data_frame['clearcut_val'] = clearcut.ravel()\n",
    "            data_frame['clearcut_bool'] = data_frame['clearcut_val'] != 0.0\n",
    "\n",
    "        elif \"EXPOSED_SP.tif_project_4x.bin_sub.bin\" in raster:\n",
    "            exposed = rasterio.open(raster).read(1)\n",
    "            data_frame['exposed_val'] = exposed.ravel()\n",
    "            data_frame['exposed_bool'] = data_frame['exposed_val'] != 0.0"
   ]
  },
  {
   "cell_type": "code",
   "execution_count": 9,
   "metadata": {},
   "outputs": [
    {
     "name": "stderr",
     "output_type": "stream",
     "text": [
      "IOPub data rate exceeded.\n",
      "The notebook server will temporarily stop sending output\n",
      "to the client in order to avoid crashing it.\n",
      "To change this limit, set the config variable\n",
      "`--NotebookApp.iopub_data_rate_limit`.\n",
      "\n",
      "Current values:\n",
      "NotebookApp.iopub_data_rate_limit=1000000.0 (bytes/sec)\n",
      "NotebookApp.rate_limit_window=3.0 (secs)\n",
      "\n"
     ]
    }
   ],
   "source": [
    "with pd.option_context('display.max_rows', 10, 'display.max_columns', None):\n",
    "    print(data_frame)"
   ]
  },
  {
   "cell_type": "code",
   "execution_count": 9,
   "metadata": {},
   "outputs": [],
   "source": [
    "X_true = data_frame[data_frame['label_water_bool'] == True]\n",
    "X_false = data_frame[data_frame['label_water_bool'] == False].sample(len(X_true))"
   ]
  },
  {
   "cell_type": "code",
   "execution_count": 10,
   "metadata": {},
   "outputs": [],
   "source": [
    "from sklearn.preprocessing import StandardScaler\n",
    "scaler = StandardScaler(copy=True, with_mean=True, with_std=True)"
   ]
  },
  {
   "cell_type": "code",
   "execution_count": 11,
   "metadata": {},
   "outputs": [],
   "source": [
    "undersample_water_frames = [X_true, X_false]\n",
    "X_full = pd.concat(undersample_water_frames) # Concat the undersampled true and false pixels\n",
    "X = X_full.loc[:, : 'swir2'] # only considers the columns up to swir2"
   ]
  },
  {
   "cell_type": "code",
   "execution_count": 12,
   "metadata": {},
   "outputs": [],
   "source": [
    "X_norm = scaler.fit_transform(X)"
   ]
  },
  {
   "cell_type": "code",
   "execution_count": 13,
   "metadata": {},
   "outputs": [],
   "source": [
    "y = X_full['label_water_bool']"
   ]
  },
  {
   "cell_type": "code",
   "execution_count": 14,
   "metadata": {},
   "outputs": [],
   "source": [
    "from sklearn.model_selection import train_test_split\n",
    "X_train, X_test, y_train, y_test = train_test_split(X_norm, y, random_state=0, test_size=0.2)"
   ]
  },
  {
   "cell_type": "code",
   "execution_count": 15,
   "metadata": {},
   "outputs": [],
   "source": [
    "from sklearn.linear_model import SGDClassifier\n",
    "sgd_classifier = SGDClassifier(random_state=42, verbose=0, warm_start=True)\n",
    "y_pred = sgd_classifier.fit(X_train, y_train).predict(X_test)"
   ]
  },
  {
   "cell_type": "code",
   "execution_count": 16,
   "metadata": {},
   "outputs": [
    {
     "name": "stdout",
     "output_type": "stream",
     "text": [
      "Test score: 0.93\n"
     ]
    }
   ],
   "source": [
    "print(\"Test score: {:.2f}\".format(sgd_classifier.score(X_test, y_test)))"
   ]
  },
  {
   "cell_type": "code",
   "execution_count": 17,
   "metadata": {},
   "outputs": [],
   "source": [
    "from sklearn.metrics import confusion_matrix\n",
    "tn, fp, fn, tp = confusion_matrix(y_test, y_pred).ravel()"
   ]
  },
  {
   "cell_type": "code",
   "execution_count": 18,
   "metadata": {},
   "outputs": [
    {
     "name": "stdout",
     "output_type": "stream",
     "text": [
      "True Positive: 1150\n",
      "True Negative: 1318\n",
      "False Positive: 55\n",
      "False Negative: 127\n"
     ]
    }
   ],
   "source": [
    "print(\"True Positive:\", tp )\n",
    "print(\"True Negative:\", tn )\n",
    "print(\"False Positive:\", fp )\n",
    "print(\"False Negative:\", fn )"
   ]
  },
  {
   "cell_type": "code",
   "execution_count": null,
   "metadata": {},
   "outputs": [],
   "source": []
  }
 ],
 "metadata": {
  "kernelspec": {
   "display_name": "Python 3",
   "language": "python",
   "name": "python3"
  },
  "language_info": {
   "codemirror_mode": {
    "name": "ipython",
    "version": 3
   },
   "file_extension": ".py",
   "mimetype": "text/x-python",
   "name": "python",
   "nbconvert_exporter": "python",
   "pygments_lexer": "ipython3",
   "version": "3.6.6"
  }
 },
 "nbformat": 4,
 "nbformat_minor": 2
}
