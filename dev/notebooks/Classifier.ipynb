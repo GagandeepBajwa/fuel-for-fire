{
 "cells": [
  {
   "cell_type": "markdown",
   "metadata": {},
   "source": [
    "# Retrieve the data files for reading in"
   ]
  },
  {
   "cell_type": "code",
   "execution_count": 1,
   "metadata": {},
   "outputs": [],
   "source": [
    "# Import matplot for plotting later on\n",
    "import matplotlib.pyplot as plt\n",
    "%matplotlib inline"
   ]
  },
  {
   "cell_type": "code",
   "execution_count": 2,
   "metadata": {},
   "outputs": [],
   "source": [
    "# Specify the path to our data\n",
    "dataPath = \"../../data/\""
   ]
  },
  {
   "cell_type": "code",
   "execution_count": 3,
   "metadata": {},
   "outputs": [
    {
     "name": "stdout",
     "output_type": "stream",
     "text": [
      "files retrieved\n"
     ]
    }
   ],
   "source": [
    "# Walk the data folder, returning a list of all the files\n",
    "import os\n",
    "rasterBin = []\n",
    "for root, dirs, files in os.walk(dataPath, topdown=False):\n",
    "   for file in files:\n",
    "        if \".hdr\" not in file:\n",
    "            rasterBin.append(os.path.join(dataPath, file))\n",
    "\n",
    "print(\"files retrieved\")"
   ]
  },
  {
   "cell_type": "markdown",
   "metadata": {},
   "source": [
    "# Read in the original image and truth labeled images for classification"
   ]
  },
  {
   "cell_type": "code",
   "execution_count": 4,
   "metadata": {},
   "outputs": [],
   "source": [
    "# Library for working with raster images\n",
    "import rasterio\n",
    "import numpy as np\n",
    "from rasterio import plot"
   ]
  },
  {
   "cell_type": "code",
   "execution_count": 5,
   "metadata": {},
   "outputs": [],
   "source": [
    "import pandas as pd\n",
    "data_frame = pd.DataFrame(columns=(\n",
    "        'S2_coastal_aerosol',\n",
    "        'S2_blue',\n",
    "        'S2_green',\n",
    "        'S2_red',\n",
    "        'S2_vre1',\n",
    "        'S2_vre2',\n",
    "        'S2_vre3',\n",
    "        'S2_nir',\n",
    "        'S2_narrow_nir',\n",
    "        'S2_water_vapour',\n",
    "        'S2_swir_cirrus',\n",
    "        'S2_swir2',\n",
    "        'L8_coastal_aerosol',\n",
    "        'L8_blue',\n",
    "        'L8_green',\n",
    "        'L8_red',\n",
    "        'L8_near_infrared',\n",
    "        'L8_shortwave_infrared1',\n",
    "        'L8_shortwave_infrared2',\n",
    "        'L8_panchromatic',\n",
    "        'L8_cirrus',\n",
    "        'L8_longwave_infrared1',\n",
    "        'L8_longwave_infrared2',\n",
    "        'water_val',\n",
    "        'water_bool',\n",
    "        'river_val',\n",
    "        'river_bool',\n",
    "        'broadleaf_val',\n",
    "        'broadleaf_bool',\n",
    "        'shrub_val',\n",
    "        'shrub_bool',\n",
    "        'mixed_val',\n",
    "        'mixed_bool',\n",
    "        'conifer_val',\n",
    "        'conifer_bool',\n",
    "        'herb_val',\n",
    "        'herb_bool',\n",
    "        'clearcut_val',\n",
    "        'clearcut_bool',\n",
    "        'exposed_val',\n",
    "        'exposed_bool'))"
   ]
  },
  {
   "cell_type": "code",
   "execution_count": 13,
   "metadata": {},
   "outputs": [],
   "source": [
    "    for raster in rasterBin:\n",
    "\n",
    "        if \"S2A.bin_4x.bin_sub.bin\" in raster:\n",
    "\n",
    "            dataset = rasterio.open(raster)\n",
    "            for idx in dataset.indexes:\n",
    "                \"\"\"\n",
    "                reads in the current band which is a mat of 401, 410 and ravels it\n",
    "                storing the result in the current column. ie(X values)\n",
    "                \"\"\"\n",
    "                data_frame.iloc[:, idx-1] = dataset.read(idx).ravel()\n",
    "        elif \"L8.bin_4x.bin_sub.bin\" in raster:\n",
    "            dataset = rasterio.open(raster)\n",
    "            for idx in dataset.indexes:\n",
    "                data_frame.iloc[:, idx+11] = dataset.read(idx).ravel()\n",
    "\n",
    "        elif \"WATERSP.tif_project_4x.bin_sub.bin\" in raster:\n",
    "            water = rasterio.open(raster).read(1)\n",
    "            data_frame['water_val'] = water.ravel()\n",
    "            data_frame['water_bool'] = data_frame['water_val'] != 128\n",
    "\n",
    "        elif \"RiversSP.tif_project_4x.bin_sub.bin\" in raster:\n",
    "            river = rasterio.open(raster).read(1)\n",
    "            data_frame['river_val'] = river.ravel()\n",
    "            data_frame['river_bool'] = data_frame['river_val'] == 1.0\n",
    "\n",
    "        elif \"BROADLEAF_SP.tif_project_4x.bin_sub.bin\" in raster:\n",
    "            broadleaf = rasterio.open(raster).read(1)\n",
    "            data_frame['broadleaf_val'] = broadleaf.ravel()\n",
    "            data_frame['broadleaf_bool'] = data_frame['broadleaf_val'] == 1.0\n",
    "\n",
    "        elif \"SHRUB_SP.tif_project_4x.bin_sub.bin\" in raster:\n",
    "            shrub = rasterio.open(raster).read(1)\n",
    "            data_frame['shrub_val'] = shrub.ravel()\n",
    "            data_frame['shrub_bool'] = data_frame['shrub_val'] != 0.0\n",
    "\n",
    "        elif \"MIXED_SP.tif_project_4x.bin_sub.bin\" in raster:\n",
    "            mixed = rasterio.open(raster).read(1)\n",
    "            data_frame['mixed_val'] = mixed.ravel()\n",
    "            data_frame['mixed_bool'] = data_frame['mixed_val'] != 0.0\n",
    "\n",
    "        elif \"CONIFER_SP.tif_project_4x.bin_sub.bin\" in raster:\n",
    "            conifer = rasterio.open(raster).read(1)\n",
    "            data_frame['conifer_val'] = conifer.ravel()\n",
    "            data_frame['conifer_bool'] = data_frame['conifer_val'] != 0.0\n",
    "\n",
    "        elif \"HERB_GRAS_SP.tif_project_4x.bin_sub.bin\" in raster:\n",
    "            herb = rasterio.open(raster).read(1)\n",
    "            data_frame['herb_val'] = herb.ravel()\n",
    "            data_frame['herb_bool'] = data_frame['herb_val'] != 0.0\n",
    "\n",
    "        elif \"CCUTBL_SP.tif_project_4x.bin_sub.bin\" in raster:\n",
    "            clearcut = rasterio.open(raster).read(1)\n",
    "            data_frame['clearcut_val'] = clearcut.ravel()\n",
    "            data_frame['clearcut_bool'] = data_frame['clearcut_val'] != 0.0\n",
    "\n",
    "        elif \"EXPOSED_SP.tif_project_4x.bin_sub.bin\" in raster:\n",
    "            exposed = rasterio.open(raster).read(1)\n",
    "            data_frame['exposed_val'] = exposed.ravel()\n",
    "            data_frame['exposed_bool'] = data_frame['exposed_val'] != 0.0"
   ]
  },
  {
   "cell_type": "code",
   "execution_count": 15,
   "metadata": {},
   "outputs": [
    {
     "name": "stdout",
     "output_type": "stream",
     "text": [
      "        S2_coastal_aerosol      S2_blue    S2_green      S2_red      S2_vre1  \\\n",
      "0              1199.359985  1009.080017  987.719971  899.039978  1317.599976   \n",
      "1              1114.880005   858.919983  806.599976  620.080017  1013.760010   \n",
      "2              1180.280029   991.200012  972.640015  913.200012  1401.719971   \n",
      "3              1204.439941  1003.599976  970.239990  930.200012  1406.280029   \n",
      "4              1214.359985  1014.200012  983.200012  937.760010  1388.680054   \n",
      "...                    ...          ...         ...         ...          ...   \n",
      "164405         1090.640015   846.760010  800.280029  635.080017  1024.560059   \n",
      "164406         1070.319946   847.400024  801.000000  641.679993  1037.680054   \n",
      "164407         1030.920044   772.719971  684.960022  486.959991   784.880005   \n",
      "164408          985.400024   715.280029  600.239990  372.079987   634.400024   \n",
      "164409          974.440002   709.840027  592.080017  360.920013   621.520020   \n",
      "\n",
      "            S2_vre2      S2_vre3       S2_nir  S2_narrow_nir  S2_water_vapour  \\\n",
      "0       2165.679932  2480.000000  2470.239990    1038.800049            10.12   \n",
      "1       1941.880005  2251.080078  2222.520020     981.200012            10.48   \n",
      "2       2232.360107  2541.560059  2555.560059    1103.800049            11.44   \n",
      "3       2173.360107  2464.000000  2485.760010    1110.000000            12.36   \n",
      "4       2160.840088  2449.879883  2460.520020    1097.079956            12.00   \n",
      "...             ...          ...          ...            ...              ...   \n",
      "164405  1967.880005  2300.360107  2254.560059     885.719971             7.64   \n",
      "164406  1991.839966  2330.280029  2283.320068     881.760010             7.68   \n",
      "164407  1743.800049  2085.719971  2042.119995     815.840027             7.48   \n",
      "164408  1687.760010  2071.760010  2029.880005     782.880005             6.68   \n",
      "164409  1667.880005  2058.919922  2014.719971     784.320007             6.24   \n",
      "\n",
      "        S2_swir_cirrus     S2_swir2  L8_coastal_aerosol       L8_blue  \\\n",
      "0          2336.120117  1380.800049         9949.715820   9271.240234   \n",
      "1          1725.880005   935.840027         9491.057617   8688.097656   \n",
      "2          2461.199951  1369.199951         9797.715820   9112.172852   \n",
      "3          2588.800049  1457.199951         9879.257812   9195.747070   \n",
      "4          2578.199951  1499.280029         9953.707031   9288.475586   \n",
      "...                ...          ...                 ...           ...   \n",
      "164405     1710.079956   881.880005        11132.888672  10367.506836   \n",
      "164406     1709.479980   882.080017        11010.835938  10243.942383   \n",
      "164407     1219.000000   591.640015        10825.426758  10055.599609   \n",
      "164408      859.520020   362.959991        11100.470703  10254.564453   \n",
      "164409      798.159973   325.440002        11396.519531  10505.817383   \n",
      "\n",
      "           L8_green       L8_red  L8_near_infrared  L8_shortwave_infrared1  \\\n",
      "0       9180.773438  8579.506836      18343.167969            14934.968750   \n",
      "1       8402.271484  7531.809082      16818.449219            12328.995117   \n",
      "2       9099.906250  8401.177734      19417.080078            14842.146484   \n",
      "3       9141.244141  8505.022461      19018.972656            15415.937500   \n",
      "4       9199.257812  8695.280273      18496.390625            15708.257812   \n",
      "...             ...          ...               ...                     ...   \n",
      "164405  9954.440430  9228.662109      18436.369141            12686.484375   \n",
      "164406  9795.280273  9063.506836      18341.302734            12612.915039   \n",
      "164407  9310.146484  8540.747070      17326.958984            11335.884766   \n",
      "164408  9458.083984  8672.400391      17234.181641            10445.249023   \n",
      "164409  9757.044922  8969.449219      17297.257812            10435.066406   \n",
      "\n",
      "        L8_shortwave_infrared2  L8_panchromatic    L8_cirrus  \\\n",
      "0                 10760.862305      8869.115234  5049.351074   \n",
      "1                  8942.799805      7995.508301  5045.546875   \n",
      "2                 10269.529297      8741.232422  5046.911133   \n",
      "3                 10623.458008      8810.446289  5049.817871   \n",
      "4                 11057.111328      8914.760742  5047.879883   \n",
      "...                        ...              ...          ...   \n",
      "164405             9475.635742      9626.619141  6306.688965   \n",
      "164406             9373.787109      9490.594727  6174.177734   \n",
      "164407             8575.973633      9192.883789  6036.311035   \n",
      "164408             8140.817871      9212.537109  6289.097656   \n",
      "164409             8214.186523      9368.766602  6570.386719   \n",
      "\n",
      "        L8_longwave_infrared1  L8_longwave_infrared2  water_val  water_bool  \\\n",
      "0                29202.798828           26297.933594      128.0       False   \n",
      "1                29048.115234           26155.009766      128.0       False   \n",
      "2                29649.347656           26611.884766      128.0       False   \n",
      "3                30047.794922           26898.431641      128.0       False   \n",
      "4                30267.222656           27072.027344      128.0       False   \n",
      "...                       ...                    ...        ...         ...   \n",
      "164405           21846.230469           20792.365234      128.0       False   \n",
      "164406           21928.244141           20774.537109      128.0       False   \n",
      "164407           21931.640625           20521.337891      128.0       False   \n",
      "164408           21759.666016           20227.648438      128.0       False   \n",
      "164409           21795.582031           20127.101562      128.0       False   \n",
      "\n",
      "        river_val  river_bool  broadleaf_val  broadleaf_bool  shrub_val  \\\n",
      "0             0.0       False            0.0           False        0.0   \n",
      "1             0.0       False            0.0           False        0.0   \n",
      "2             0.0       False            0.0           False        0.0   \n",
      "3             0.0       False            0.0           False        0.0   \n",
      "4             0.0       False            0.0           False        0.0   \n",
      "...           ...         ...            ...             ...        ...   \n",
      "164405        0.0       False            0.0           False        0.0   \n",
      "164406        0.0       False            0.0           False        0.0   \n",
      "164407        0.0       False            0.0           False        0.0   \n",
      "164408        0.0       False            0.0           False        0.0   \n",
      "164409        0.0       False            0.0           False        0.0   \n",
      "\n",
      "        shrub_bool  mixed_val  mixed_bool  conifer_val  conifer_bool  \\\n",
      "0            False        0.0       False       1799.0          True   \n",
      "1            False        0.0       False       1799.0          True   \n",
      "2            False        0.0       False       1799.0          True   \n",
      "3            False        0.0       False       1799.0          True   \n",
      "4            False        0.0       False       1799.0          True   \n",
      "...            ...        ...         ...          ...           ...   \n",
      "164405       False        0.0       False       2417.0          True   \n",
      "164406       False        0.0       False       2417.0          True   \n",
      "164407       False        0.0       False          0.0         False   \n",
      "164408       False        0.0       False          0.0         False   \n",
      "164409       False        0.0       False          0.0         False   \n",
      "\n",
      "        herb_val  herb_bool  clearcut_val  clearcut_bool  exposed_val  \\\n",
      "0            0.0      False        2009.0           True          0.0   \n",
      "1            0.0      False           0.0          False          0.0   \n",
      "2            0.0      False        2009.0           True          0.0   \n",
      "3            0.0      False        2009.0           True          0.0   \n",
      "4            0.0      False        2009.0           True          0.0   \n",
      "...          ...        ...           ...            ...          ...   \n",
      "164405       0.0      False           0.0          False          0.0   \n",
      "164406       0.0      False           0.0          False          0.0   \n",
      "164407       0.0      False           0.0          False          0.0   \n",
      "164408       0.0      False        2000.0           True        761.0   \n",
      "164409       0.0      False        2000.0           True        761.0   \n",
      "\n",
      "        exposed_bool  \n",
      "0              False  \n",
      "1              False  \n",
      "2              False  \n",
      "3              False  \n",
      "4              False  \n",
      "...              ...  \n",
      "164405         False  \n",
      "164406         False  \n",
      "164407         False  \n",
      "164408          True  \n",
      "164409          True  \n",
      "\n",
      "[164410 rows x 41 columns]\n"
     ]
    }
   ],
   "source": [
    "with pd.option_context('display.max_rows', 10, 'display.max_columns', None):\n",
    "    print(data_frame)"
   ]
  },
  {
   "cell_type": "code",
   "execution_count": 9,
   "metadata": {},
   "outputs": [],
   "source": [
    "X_true = data_frame[data_frame['label_water_bool'] == True]\n",
    "X_false = data_frame[data_frame['label_water_bool'] == False].sample(len(X_true))"
   ]
  },
  {
   "cell_type": "code",
   "execution_count": 10,
   "metadata": {},
   "outputs": [],
   "source": [
    "from sklearn.preprocessing import StandardScaler\n",
    "scaler = StandardScaler(copy=True, with_mean=True, with_std=True)"
   ]
  },
  {
   "cell_type": "code",
   "execution_count": 11,
   "metadata": {},
   "outputs": [],
   "source": [
    "undersample_water_frames = [X_true, X_false]\n",
    "X_full = pd.concat(undersample_water_frames) # Concat the undersampled true and false pixels\n",
    "X = X_full.loc[:, : 'swir2'] # only considers the columns up to swir2"
   ]
  },
  {
   "cell_type": "code",
   "execution_count": 12,
   "metadata": {},
   "outputs": [],
   "source": [
    "X_norm = scaler.fit_transform(X)"
   ]
  },
  {
   "cell_type": "code",
   "execution_count": 13,
   "metadata": {},
   "outputs": [],
   "source": [
    "y = X_full['label_water_bool']"
   ]
  },
  {
   "cell_type": "code",
   "execution_count": 14,
   "metadata": {},
   "outputs": [],
   "source": [
    "from sklearn.model_selection import train_test_split\n",
    "X_train, X_test, y_train, y_test = train_test_split(X_norm, y, random_state=0, test_size=0.2)"
   ]
  },
  {
   "cell_type": "code",
   "execution_count": 15,
   "metadata": {},
   "outputs": [],
   "source": [
    "from sklearn.linear_model import SGDClassifier\n",
    "sgd_classifier = SGDClassifier(random_state=42, verbose=0, warm_start=True)\n",
    "y_pred = sgd_classifier.fit(X_train, y_train).predict(X_test)"
   ]
  },
  {
   "cell_type": "code",
   "execution_count": 16,
   "metadata": {},
   "outputs": [
    {
     "name": "stdout",
     "output_type": "stream",
     "text": [
      "Test score: 0.93\n"
     ]
    }
   ],
   "source": [
    "print(\"Test score: {:.2f}\".format(sgd_classifier.score(X_test, y_test)))"
   ]
  },
  {
   "cell_type": "code",
   "execution_count": 17,
   "metadata": {},
   "outputs": [],
   "source": [
    "from sklearn.metrics import confusion_matrix\n",
    "tn, fp, fn, tp = confusion_matrix(y_test, y_pred).ravel()"
   ]
  },
  {
   "cell_type": "code",
   "execution_count": 18,
   "metadata": {},
   "outputs": [
    {
     "name": "stdout",
     "output_type": "stream",
     "text": [
      "True Positive: 1150\n",
      "True Negative: 1318\n",
      "False Positive: 55\n",
      "False Negative: 127\n"
     ]
    }
   ],
   "source": [
    "print(\"True Positive:\", tp )\n",
    "print(\"True Negative:\", tn )\n",
    "print(\"False Positive:\", fp )\n",
    "print(\"False Negative:\", fn )"
   ]
  },
  {
   "cell_type": "code",
   "execution_count": null,
   "metadata": {},
   "outputs": [],
   "source": []
  }
 ],
 "metadata": {
  "kernelspec": {
   "display_name": "Python 3",
   "language": "python",
   "name": "python3"
  },
  "language_info": {
   "codemirror_mode": {
    "name": "ipython",
    "version": 3
   },
   "file_extension": ".py",
   "mimetype": "text/x-python",
   "name": "python",
   "nbconvert_exporter": "python",
   "pygments_lexer": "ipython3",
   "version": "3.6.6"
  }
 },
 "nbformat": 4,
 "nbformat_minor": 2
}
