{
 "cells": [
  {
   "cell_type": "code",
   "execution_count": 1,
   "metadata": {},
   "outputs": [],
   "source": [
    "# Import matplot for plotting later on\n",
    "import matplotlib.pyplot as plt\n",
    "%matplotlib inline"
   ]
  },
  {
   "cell_type": "code",
   "execution_count": 2,
   "metadata": {},
   "outputs": [],
   "source": [
    "# Specify the path to our data\n",
    "dataPath = \"../../data/\""
   ]
  },
  {
   "cell_type": "code",
   "execution_count": 3,
   "metadata": {},
   "outputs": [
    {
     "name": "stdout",
     "output_type": "stream",
     "text": [
      "files retrieved\n"
     ]
    }
   ],
   "source": [
    "# Walk the data folder, returning a list of all the files\n",
    "import os\n",
    "rasterBin = []\n",
    "for root, dirs, files in os.walk(dataPath, topdown=False):\n",
    "   for file in files:\n",
    "        if \".hdr\" not in file:\n",
    "            rasterBin.append(os.path.join(dataPath, file))\n",
    "\n",
    "print(\"files retrieved\")"
   ]
  },
  {
   "cell_type": "code",
   "execution_count": 4,
   "metadata": {},
   "outputs": [],
   "source": [
    "# Library for working with raster images\n",
    "import rasterio\n",
    "from rasterio import plot"
   ]
  },
  {
   "cell_type": "code",
   "execution_count": 5,
   "metadata": {},
   "outputs": [
    {
     "data": {
      "image/png": "[encoded data removed]",
      "text/plain": [
       "<Figure size 432x288 with 1 Axes>"
      ]
     },
     "metadata": {
      "needs_background": "light"
     },
     "output_type": "display_data"
    }
   ],
   "source": [
    "for raster in rasterBin:\n",
    "    if \"S2A.bin_4x.bin_sub.bin\" in raster:\n",
    "        \n",
    "        dataset = rasterio.open(raster)     \n",
    "        \n",
    "    elif \"WATERSP.tif_project_4x.bin_sub.bin\" in raster:\n",
    "        labeledWaterImage = rasterio.open(raster)\n",
    "    elif \"\"\n",
    "        # This is the TRUTH label vis\n",
    "        plot.show(labeledImage)\n"
   ]
  },
  {
   "cell_type": "code",
   "execution_count": 18,
   "metadata": {},
   "outputs": [],
   "source": [
    "import pandas as pd\n",
    "data_frame = pd.DataFrame(columns=('coastal_aerosol','blue','green','red','vre1','vre2','vre3','nir','narrow_nir','water_vapour','swir_cirrus','swir2', 'label_water', 'lable_shrub'))"
   ]
  },
  {
   "cell_type": "code",
   "execution_count": 19,
   "metadata": {},
   "outputs": [
    {
     "data": {
      "text/html": [
       "<div>\n",
       "<style scoped>\n",
       "    .dataframe tbody tr th:only-of-type {\n",
       "        vertical-align: middle;\n",
       "    }\n",
       "\n",
       "    .dataframe tbody tr th {\n",
       "        vertical-align: top;\n",
       "    }\n",
       "\n",
       "    .dataframe thead th {\n",
       "        text-align: right;\n",
       "    }\n",
       "</style>\n",
       "<table border=\"1\" class=\"dataframe\">\n",
       "  <thead>\n",
       "    <tr style=\"text-align: right;\">\n",
       "      <th></th>\n",
       "      <th>coastal_aerosol</th>\n",
       "      <th>blue</th>\n",
       "      <th>green</th>\n",
       "      <th>red</th>\n",
       "      <th>vre1</th>\n",
       "      <th>vre2</th>\n",
       "      <th>vre3</th>\n",
       "      <th>nir</th>\n",
       "      <th>narrow_nir</th>\n",
       "      <th>water_vapour</th>\n",
       "      <th>swir_cirrus</th>\n",
       "      <th>swir2</th>\n",
       "      <th>label_water</th>\n",
       "      <th>lable_shrub</th>\n",
       "    </tr>\n",
       "  </thead>\n",
       "  <tbody>\n",
       "  </tbody>\n",
       "</table>\n",
       "</div>"
      ],
      "text/plain": [
       "Empty DataFrame\n",
       "Columns: [coastal_aerosol, blue, green, red, vre1, vre2, vre3, nir, narrow_nir, water_vapour, swir_cirrus, swir2, label_water, lable_shrub]\n",
       "Index: []"
      ]
     },
     "execution_count": 19,
     "metadata": {},
     "output_type": "execute_result"
    }
   ],
   "source": []
  },
  {
   "cell_type": "code",
   "execution_count": 20,
   "metadata": {},
   "outputs": [
    {
     "name": "stdout",
     "output_type": "stream",
     "text": [
      "coastal_aerosol\n",
      "blue\n",
      "green\n",
      "red\n",
      "vre1\n",
      "vre2\n",
      "vre3\n",
      "nir\n",
      "narrow_nir\n",
      "water_vapour\n",
      "swir_cirrus\n",
      "swir2\n",
      "label_water\n",
      "lable_shrub\n"
     ]
    }
   ],
   "source": []
  },
  {
   "cell_type": "code",
   "execution_count": 37,
   "metadata": {},
   "outputs": [],
   "source": [
    "\n",
    "# For each band in the dataset\n",
    "count = 0\n",
    "for idx in dataset.indexes:\n",
    "    band = dataset.read(idx)\n",
    "    band = band.ravel()\n",
    "    data_frame.iloc[:,idx-1] = band"
   ]
  },
  {
   "cell_type": "code",
   "execution_count": 38,
   "metadata": {},
   "outputs": [
    {
     "data": {
      "text/html": [
       "<div>\n",
       "<style scoped>\n",
       "    .dataframe tbody tr th:only-of-type {\n",
       "        vertical-align: middle;\n",
       "    }\n",
       "\n",
       "    .dataframe tbody tr th {\n",
       "        vertical-align: top;\n",
       "    }\n",
       "\n",
       "    .dataframe thead th {\n",
       "        text-align: right;\n",
       "    }\n",
       "</style>\n",
       "<table border=\"1\" class=\"dataframe\">\n",
       "  <thead>\n",
       "    <tr style=\"text-align: right;\">\n",
       "      <th></th>\n",
       "      <th>coastal_aerosol</th>\n",
       "      <th>blue</th>\n",
       "      <th>green</th>\n",
       "      <th>red</th>\n",
       "      <th>vre1</th>\n",
       "      <th>vre2</th>\n",
       "      <th>vre3</th>\n",
       "      <th>nir</th>\n",
       "      <th>narrow_nir</th>\n",
       "      <th>water_vapour</th>\n",
       "      <th>swir_cirrus</th>\n",
       "      <th>swir2</th>\n",
       "      <th>label_water</th>\n",
       "      <th>lable_shrub</th>\n",
       "    </tr>\n",
       "  </thead>\n",
       "  <tbody>\n",
       "    <tr>\n",
       "      <td>0</td>\n",
       "      <td>1199.359985</td>\n",
       "      <td>1009.080017</td>\n",
       "      <td>987.719971</td>\n",
       "      <td>899.039978</td>\n",
       "      <td>1317.599976</td>\n",
       "      <td>2165.679932</td>\n",
       "      <td>2480.000000</td>\n",
       "      <td>2470.239990</td>\n",
       "      <td>1038.800049</td>\n",
       "      <td>10.12</td>\n",
       "      <td>2336.120117</td>\n",
       "      <td>1380.800049</td>\n",
       "      <td>NaN</td>\n",
       "      <td>NaN</td>\n",
       "    </tr>\n",
       "    <tr>\n",
       "      <td>1</td>\n",
       "      <td>1114.880005</td>\n",
       "      <td>858.919983</td>\n",
       "      <td>806.599976</td>\n",
       "      <td>620.080017</td>\n",
       "      <td>1013.760010</td>\n",
       "      <td>1941.880005</td>\n",
       "      <td>2251.080078</td>\n",
       "      <td>2222.520020</td>\n",
       "      <td>981.200012</td>\n",
       "      <td>10.48</td>\n",
       "      <td>1725.880005</td>\n",
       "      <td>935.840027</td>\n",
       "      <td>NaN</td>\n",
       "      <td>NaN</td>\n",
       "    </tr>\n",
       "    <tr>\n",
       "      <td>2</td>\n",
       "      <td>1180.280029</td>\n",
       "      <td>991.200012</td>\n",
       "      <td>972.640015</td>\n",
       "      <td>913.200012</td>\n",
       "      <td>1401.719971</td>\n",
       "      <td>2232.360107</td>\n",
       "      <td>2541.560059</td>\n",
       "      <td>2555.560059</td>\n",
       "      <td>1103.800049</td>\n",
       "      <td>11.44</td>\n",
       "      <td>2461.199951</td>\n",
       "      <td>1369.199951</td>\n",
       "      <td>NaN</td>\n",
       "      <td>NaN</td>\n",
       "    </tr>\n",
       "    <tr>\n",
       "      <td>3</td>\n",
       "      <td>1204.439941</td>\n",
       "      <td>1003.599976</td>\n",
       "      <td>970.239990</td>\n",
       "      <td>930.200012</td>\n",
       "      <td>1406.280029</td>\n",
       "      <td>2173.360107</td>\n",
       "      <td>2464.000000</td>\n",
       "      <td>2485.760010</td>\n",
       "      <td>1110.000000</td>\n",
       "      <td>12.36</td>\n",
       "      <td>2588.800049</td>\n",
       "      <td>1457.199951</td>\n",
       "      <td>NaN</td>\n",
       "      <td>NaN</td>\n",
       "    </tr>\n",
       "    <tr>\n",
       "      <td>4</td>\n",
       "      <td>1214.359985</td>\n",
       "      <td>1014.200012</td>\n",
       "      <td>983.200012</td>\n",
       "      <td>937.760010</td>\n",
       "      <td>1388.680054</td>\n",
       "      <td>2160.840088</td>\n",
       "      <td>2449.879883</td>\n",
       "      <td>2460.520020</td>\n",
       "      <td>1097.079956</td>\n",
       "      <td>12.00</td>\n",
       "      <td>2578.199951</td>\n",
       "      <td>1499.280029</td>\n",
       "      <td>NaN</td>\n",
       "      <td>NaN</td>\n",
       "    </tr>\n",
       "    <tr>\n",
       "      <td>...</td>\n",
       "      <td>...</td>\n",
       "      <td>...</td>\n",
       "      <td>...</td>\n",
       "      <td>...</td>\n",
       "      <td>...</td>\n",
       "      <td>...</td>\n",
       "      <td>...</td>\n",
       "      <td>...</td>\n",
       "      <td>...</td>\n",
       "      <td>...</td>\n",
       "      <td>...</td>\n",
       "      <td>...</td>\n",
       "      <td>...</td>\n",
       "      <td>...</td>\n",
       "    </tr>\n",
       "    <tr>\n",
       "      <td>164405</td>\n",
       "      <td>1090.640015</td>\n",
       "      <td>846.760010</td>\n",
       "      <td>800.280029</td>\n",
       "      <td>635.080017</td>\n",
       "      <td>1024.560059</td>\n",
       "      <td>1967.880005</td>\n",
       "      <td>2300.360107</td>\n",
       "      <td>2254.560059</td>\n",
       "      <td>885.719971</td>\n",
       "      <td>7.64</td>\n",
       "      <td>1710.079956</td>\n",
       "      <td>881.880005</td>\n",
       "      <td>NaN</td>\n",
       "      <td>NaN</td>\n",
       "    </tr>\n",
       "    <tr>\n",
       "      <td>164406</td>\n",
       "      <td>1070.319946</td>\n",
       "      <td>847.400024</td>\n",
       "      <td>801.000000</td>\n",
       "      <td>641.679993</td>\n",
       "      <td>1037.680054</td>\n",
       "      <td>1991.839966</td>\n",
       "      <td>2330.280029</td>\n",
       "      <td>2283.320068</td>\n",
       "      <td>881.760010</td>\n",
       "      <td>7.68</td>\n",
       "      <td>1709.479980</td>\n",
       "      <td>882.080017</td>\n",
       "      <td>NaN</td>\n",
       "      <td>NaN</td>\n",
       "    </tr>\n",
       "    <tr>\n",
       "      <td>164407</td>\n",
       "      <td>1030.920044</td>\n",
       "      <td>772.719971</td>\n",
       "      <td>684.960022</td>\n",
       "      <td>486.959991</td>\n",
       "      <td>784.880005</td>\n",
       "      <td>1743.800049</td>\n",
       "      <td>2085.719971</td>\n",
       "      <td>2042.119995</td>\n",
       "      <td>815.840027</td>\n",
       "      <td>7.48</td>\n",
       "      <td>1219.000000</td>\n",
       "      <td>591.640015</td>\n",
       "      <td>NaN</td>\n",
       "      <td>NaN</td>\n",
       "    </tr>\n",
       "    <tr>\n",
       "      <td>164408</td>\n",
       "      <td>985.400024</td>\n",
       "      <td>715.280029</td>\n",
       "      <td>600.239990</td>\n",
       "      <td>372.079987</td>\n",
       "      <td>634.400024</td>\n",
       "      <td>1687.760010</td>\n",
       "      <td>2071.760010</td>\n",
       "      <td>2029.880005</td>\n",
       "      <td>782.880005</td>\n",
       "      <td>6.68</td>\n",
       "      <td>859.520020</td>\n",
       "      <td>362.959991</td>\n",
       "      <td>NaN</td>\n",
       "      <td>NaN</td>\n",
       "    </tr>\n",
       "    <tr>\n",
       "      <td>164409</td>\n",
       "      <td>974.440002</td>\n",
       "      <td>709.840027</td>\n",
       "      <td>592.080017</td>\n",
       "      <td>360.920013</td>\n",
       "      <td>621.520020</td>\n",
       "      <td>1667.880005</td>\n",
       "      <td>2058.919922</td>\n",
       "      <td>2014.719971</td>\n",
       "      <td>784.320007</td>\n",
       "      <td>6.24</td>\n",
       "      <td>798.159973</td>\n",
       "      <td>325.440002</td>\n",
       "      <td>NaN</td>\n",
       "      <td>NaN</td>\n",
       "    </tr>\n",
       "  </tbody>\n",
       "</table>\n",
       "<p>164410 rows × 14 columns</p>\n",
       "</div>"
      ],
      "text/plain": [
       "        coastal_aerosol         blue       green         red         vre1  \\\n",
       "0           1199.359985  1009.080017  987.719971  899.039978  1317.599976   \n",
       "1           1114.880005   858.919983  806.599976  620.080017  1013.760010   \n",
       "2           1180.280029   991.200012  972.640015  913.200012  1401.719971   \n",
       "3           1204.439941  1003.599976  970.239990  930.200012  1406.280029   \n",
       "4           1214.359985  1014.200012  983.200012  937.760010  1388.680054   \n",
       "...                 ...          ...         ...         ...          ...   \n",
       "164405      1090.640015   846.760010  800.280029  635.080017  1024.560059   \n",
       "164406      1070.319946   847.400024  801.000000  641.679993  1037.680054   \n",
       "164407      1030.920044   772.719971  684.960022  486.959991   784.880005   \n",
       "164408       985.400024   715.280029  600.239990  372.079987   634.400024   \n",
       "164409       974.440002   709.840027  592.080017  360.920013   621.520020   \n",
       "\n",
       "               vre2         vre3          nir   narrow_nir  water_vapour  \\\n",
       "0       2165.679932  2480.000000  2470.239990  1038.800049         10.12   \n",
       "1       1941.880005  2251.080078  2222.520020   981.200012         10.48   \n",
       "2       2232.360107  2541.560059  2555.560059  1103.800049         11.44   \n",
       "3       2173.360107  2464.000000  2485.760010  1110.000000         12.36   \n",
       "4       2160.840088  2449.879883  2460.520020  1097.079956         12.00   \n",
       "...             ...          ...          ...          ...           ...   \n",
       "164405  1967.880005  2300.360107  2254.560059   885.719971          7.64   \n",
       "164406  1991.839966  2330.280029  2283.320068   881.760010          7.68   \n",
       "164407  1743.800049  2085.719971  2042.119995   815.840027          7.48   \n",
       "164408  1687.760010  2071.760010  2029.880005   782.880005          6.68   \n",
       "164409  1667.880005  2058.919922  2014.719971   784.320007          6.24   \n",
       "\n",
       "        swir_cirrus        swir2 label_water lable_shrub  \n",
       "0       2336.120117  1380.800049         NaN         NaN  \n",
       "1       1725.880005   935.840027         NaN         NaN  \n",
       "2       2461.199951  1369.199951         NaN         NaN  \n",
       "3       2588.800049  1457.199951         NaN         NaN  \n",
       "4       2578.199951  1499.280029         NaN         NaN  \n",
       "...             ...          ...         ...         ...  \n",
       "164405  1710.079956   881.880005         NaN         NaN  \n",
       "164406  1709.479980   882.080017         NaN         NaN  \n",
       "164407  1219.000000   591.640015         NaN         NaN  \n",
       "164408   859.520020   362.959991         NaN         NaN  \n",
       "164409   798.159973   325.440002         NaN         NaN  \n",
       "\n",
       "[164410 rows x 14 columns]"
      ]
     },
     "execution_count": 38,
     "metadata": {},
     "output_type": "execute_result"
    }
   ],
   "source": [
    "data_frame"
   ]
  },
  {
   "cell_type": "code",
   "execution_count": 7,
   "metadata": {},
   "outputs": [
    {
     "data": {
      "text/plain": [
       "12"
      ]
     },
     "execution_count": 7,
     "metadata": {},
     "output_type": "execute_result"
    }
   ],
   "source": [
    "dataset.count"
   ]
  },
  {
   "cell_type": "code",
   "execution_count": 8,
   "metadata": {},
   "outputs": [
    {
     "data": {
      "text/plain": [
       "410"
      ]
     },
     "execution_count": 8,
     "metadata": {},
     "output_type": "execute_result"
    }
   ],
   "source": [
    "dataset.width"
   ]
  },
  {
   "cell_type": "code",
   "execution_count": 9,
   "metadata": {},
   "outputs": [
    {
     "data": {
      "text/plain": [
       "401"
      ]
     },
     "execution_count": 9,
     "metadata": {},
     "output_type": "execute_result"
    }
   ],
   "source": [
    "dataset.height"
   ]
  },
  {
   "cell_type": "code",
   "execution_count": 10,
   "metadata": {},
   "outputs": [
    {
     "data": {
      "text/plain": [
       "BoundingBox(left=654739.941690962, bottom=5651902.478134111, right=687551.8950437317, top=5683994.16909621)"
      ]
     },
     "execution_count": 10,
     "metadata": {},
     "output_type": "execute_result"
    }
   ],
   "source": [
    "dataset.bounds"
   ]
  },
  {
   "cell_type": "code",
   "execution_count": 11,
   "metadata": {},
   "outputs": [
    {
     "data": {
      "text/plain": [
       "Affine(80.0291545189504, -0.0, 654739.941690962,\n",
       "       -0.0, -80.0291545189504, 5683994.16909621)"
      ]
     },
     "execution_count": 11,
     "metadata": {},
     "output_type": "execute_result"
    }
   ],
   "source": [
    "dataset.transform"
   ]
  },
  {
   "cell_type": "code",
   "execution_count": 12,
   "metadata": {},
   "outputs": [
    {
     "data": {
      "text/plain": [
       "CRS.from_epsg(32610)"
      ]
     },
     "execution_count": 12,
     "metadata": {},
     "output_type": "execute_result"
    }
   ],
   "source": [
    "dataset.crs"
   ]
  },
  {
   "cell_type": "code",
   "execution_count": null,
   "metadata": {},
   "outputs": [],
   "source": []
  }
 ],
 "metadata": {
  "kernelspec": {
   "display_name": "Python 3",
   "language": "python",
   "name": "python3"
  },
  "language_info": {
   "codemirror_mode": {
    "name": "ipython",
    "version": 3
   },
   "file_extension": ".py",
   "mimetype": "text/x-python",
   "name": "python",
   "nbconvert_exporter": "python",
   "pygments_lexer": "ipython3",
   "version": "3.6.6"
  }
 },
 "nbformat": 4,
 "nbformat_minor": 2
}
