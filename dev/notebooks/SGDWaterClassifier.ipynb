{
 "cells": [
  {
   "cell_type": "code",
   "execution_count": 1,
   "metadata": {},
   "outputs": [],
   "source": [
    "# Import matplot for plotting later on\n",
    "import matplotlib.pyplot as plt\n",
    "%matplotlib inline"
   ]
  },
  {
   "cell_type": "code",
   "execution_count": 2,
   "metadata": {},
   "outputs": [],
   "source": [
    "# Specify the path to our data\n",
    "dataPath = \"../../data/\""
   ]
  },
  {
   "cell_type": "code",
   "execution_count": 3,
   "metadata": {},
   "outputs": [
    {
     "name": "stdout",
     "output_type": "stream",
     "text": [
      "files retrieved\n"
     ]
    }
   ],
   "source": [
    "# Walk the data folder, returning a list of all the files\n",
    "import os\n",
    "for root, dirs, files in os.walk(dataPath, topdown=False):\n",
    "   for file in files:\n",
    "        file = os.path.join(root, file)\n",
    "print(\"files retrieved\")"
   ]
  },
  {
   "cell_type": "code",
   "execution_count": 4,
   "metadata": {},
   "outputs": [],
   "source": [
    "# Library for working with raster images\n",
    "import rasterio\n",
    "from rasterio import plot"
   ]
  },
  {
   "cell_type": "code",
   "execution_count": 5,
   "metadata": {},
   "outputs": [],
   "source": [
    "# Create a list of all the raster images\n",
    "rasterBin = []\n",
    "for file in files:\n",
    "    if \".hdr\" not in file:\n",
    "        rasterBin.append(os.path.join(dataPath, file))"
   ]
  },
  {
   "cell_type": "code",
   "execution_count": 6,
   "metadata": {},
   "outputs": [
    {
     "data": {
      "image/png": "[encoded data removed]",
      "text/plain": [
       "<Figure size 432x288 with 1 Axes>"
      ]
     },
     "metadata": {
      "needs_background": "light"
     },
     "output_type": "display_data"
    }
   ],
   "source": [
    "for raster in rasterBin:\n",
    "    if \"S2A.bin_4x.bin_sub.bin\" in raster:\n",
    "        \n",
    "        # rasterImage is of type rasterio.io.DatasetReader\n",
    "        dataset = rasterio.open(raster)     \n",
    "        \n",
    "        bandContainer = []\n",
    "        \n",
    "        # store every band\n",
    "        for x in range(dataset.count):\n",
    "            bandContainer.append(dataset.read(x+1))\n",
    "\n",
    "    elif \"WATERSP.tif_project_4x.bin_sub.bin\" in raster:\n",
    "        waterTruthImage = rasterio.open(raster)\n",
    "        \n",
    "        # This is the TRUTH label vis\n",
    "        plot.show(waterTruthImage)\n",
    "    "
   ]
  },
  {
   "cell_type": "code",
   "execution_count": 7,
   "metadata": {},
   "outputs": [],
   "source": [
    "import numpy as np\n",
    "temp_X = np.ones((401, 410, 12))\n",
    "\n",
    "for idx, band in enumerate(bandContainer):\n",
    "    temp_X[:,:,idx] = band\n"
   ]
  },
  {
   "cell_type": "code",
   "execution_count": 8,
   "metadata": {},
   "outputs": [
    {
     "name": "stdout",
     "output_type": "stream",
     "text": [
      "Creating X\n"
     ]
    }
   ],
   "source": [
    "# sklearn wants a 2d structure coming in\n",
    "# Here we will create a 2d list, and loop\n",
    "# through the entire image, saving each \n",
    "# list of 12 values in an unique index \n",
    "# of the list X\n",
    "# Essentially, this is 'like' np.ravel(X[:,:])\n",
    "x, y, z = temp_X.shape\n",
    "\n",
    "X = [[]]\n",
    "print(\"Creating X\")\n",
    "for row in range(x):\n",
    "    for col in range(y):\n",
    "        \n",
    "        values = temp_X[row,col,:] # values is np array\n",
    "        X.append(list(values)) # convert to a list and append"
   ]
  },
  {
   "cell_type": "code",
   "execution_count": 9,
   "metadata": {},
   "outputs": [
    {
     "name": "stdout",
     "output_type": "stream",
     "text": [
      "X created\n"
     ]
    }
   ],
   "source": [
    "X = [x for x in X if x != []] # remove the initial empty list\n",
    "\n",
    "# X is now a list of a list, with each index corresponding to\n",
    "# a 'feature vector' consisting of 12 values, each a specific\n",
    "# value from each of the 12 bands in the raster\n",
    "\n",
    "print(\"X created\")"
   ]
  },
  {
   "cell_type": "markdown",
   "metadata": {},
   "source": [
    "### Now we need to create a map for our water pixels, should be a matrix of 1 (for true water) and 0 (false water)\n"
   ]
  },
  {
   "cell_type": "code",
   "execution_count": 10,
   "metadata": {},
   "outputs": [],
   "source": [
    "# Convert the DatasetReader into a nparray\n",
    "arr = waterTruthImage.read(1)"
   ]
  },
  {
   "cell_type": "code",
   "execution_count": 11,
   "metadata": {},
   "outputs": [
    {
     "name": "stdout",
     "output_type": "stream",
     "text": [
      "401 410\n"
     ]
    },
    {
     "data": {
      "image/png": "[encoded data removed]",
      "text/plain": [
       "<Figure size 432x288 with 1 Axes>"
      ]
     },
     "metadata": {
      "needs_background": "light"
     },
     "output_type": "display_data"
    },
    {
     "name": "stdout",
     "output_type": "stream",
     "text": [
      "Raveling y\n",
      "y's new shape (164410,)\n"
     ]
    }
   ],
   "source": [
    "dim1, dim2 = arr.shape\n",
    "print(dim1, dim2)\n",
    "y_predict = np.ones((dim1, dim2))\n",
    "\n",
    "for x1 in range(dim1):\n",
    "    for y1 in range(dim2):\n",
    "        value = arr[x1,y1]\n",
    "        if(value != 128):\n",
    "            y_predict[x1,y1] = 1\n",
    "        else:\n",
    "            y_predict[x1,y1] = 0\n",
    "\n",
    "plot.show(y_predict)\n",
    "\n",
    "print(\"Raveling y\")\n",
    "y_predict = np.ravel(y_predict)\n",
    "print(\"y's new shape\", y_predict.shape)"
   ]
  },
  {
   "cell_type": "code",
   "execution_count": 21,
   "metadata": {},
   "outputs": [
    {
     "name": "stdout",
     "output_type": "stream",
     "text": [
      "Number of water pixels: 6624\n",
      "Number of nonwater pixels 157786\n",
      "Percentage of water 0.04028952010218356\n",
      "\n"
     ]
    }
   ],
   "source": [
    "# Some metrics for our raw data\n",
    "waterPixels = np.count_nonzero(y_predict)\n",
    "totalSamples = len(X)\n",
    "nonWaterPixels = totalSamples - waterPixels\n",
    "\n",
    "print(\"Number of water pixels:\", waterPixels)\n",
    "print(\"Number of nonwater pixels\", nonWaterPixels)\n",
    "print(\"Percentage of water\", trueSamples/totalSamples)"
   ]
  },
  {
   "cell_type": "markdown",
   "metadata": {},
   "source": [
    "### So, we're going to have to manipulate the sample so we don't run into imbalanced classes"
   ]
  },
  {
   "cell_type": "code",
   "execution_count": 99,
   "metadata": {},
   "outputs": [
    {
     "data": {
      "text/plain": [
       "SGDClassifier(alpha=0.0001, average=False, class_weight=None,\n",
       "              early_stopping=False, epsilon=0.1, eta0=0.0, fit_intercept=True,\n",
       "              l1_ratio=0.15, learning_rate='optimal', loss='hinge',\n",
       "              max_iter=1000, n_iter_no_change=5, n_jobs=None, penalty='l2',\n",
       "              power_t=0.5, random_state=42, shuffle=True, tol=0.001,\n",
       "              validation_fraction=0.1, verbose=0, warm_start=False)"
      ]
     },
     "execution_count": 99,
     "metadata": {},
     "output_type": "execute_result"
    }
   ],
   "source": [
    "from sklearn.linear_model import SGDClassifier\n",
    "sgd_clf = SGDClassifier(random_state=42)\n",
    "sgd_clf.fit(X,y_predict)"
   ]
  },
  {
   "cell_type": "code",
   "execution_count": 281,
   "metadata": {},
   "outputs": [
    {
     "data": {
      "text/plain": [
       "SGDClassifier(alpha=0.0001, average=False, class_weight=None,\n",
       "              early_stopping=False, epsilon=0.1, eta0=0.0, fit_intercept=True,\n",
       "              l1_ratio=0.15, learning_rate='optimal', loss='hinge',\n",
       "              max_iter=1000, n_iter_no_change=5, n_jobs=None, penalty='l2',\n",
       "              power_t=0.5, random_state=None, shuffle=True, tol=0.001,\n",
       "              validation_fraction=0.1, verbose=0, warm_start=False)"
      ]
     },
     "execution_count": 281,
     "metadata": {},
     "output_type": "execute_result"
    }
   ],
   "source": [
    "import numpy as np\n",
    "from sklearn import linear_model\n",
    "X = np.array([[-1, -1,1,1,1,1,1,1], [-2, -1,1,1,1,1,1,1], [1, 1,1,1,1,1,1,1], [2, 1,1,1,1,1,1,1]])\n",
    "Y = np.array([1, 1, 2, 2])\n",
    "clf = linear_model.SGDClassifier(max_iter=1000, tol=1e-3)\n",
    "clf.fit(X, Y)"
   ]
  },
  {
   "cell_type": "code",
   "execution_count": null,
   "metadata": {},
   "outputs": [],
   "source": []
  }
 ],
 "metadata": {
  "kernelspec": {
   "display_name": "Python 3",
   "language": "python",
   "name": "python3"
  },
  "language_info": {
   "codemirror_mode": {
    "name": "ipython",
    "version": 3
   },
   "file_extension": ".py",
   "mimetype": "text/x-python",
   "name": "python",
   "nbconvert_exporter": "python",
   "pygments_lexer": "ipython3",
   "version": "3.6.6"
  }
 },
 "nbformat": 4,
 "nbformat_minor": 2
}
